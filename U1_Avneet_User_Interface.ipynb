{
 "cells": [
  {
   "cell_type": "code",
   "execution_count": 4,
   "id": "8b9f9be4",
   "metadata": {},
   "outputs": [
    {
     "data": {
      "application/vnd.jupyter.widget-view+json": {
       "model_id": "07747e317d82418eb1c286dae23565f0",
       "version_major": 2,
       "version_minor": 0
      },
      "text/plain": [
       "Text(value='', description='Book Name:', placeholder='Enter book name')"
      ]
     },
     "metadata": {},
     "output_type": "display_data"
    },
    {
     "data": {
      "application/vnd.jupyter.widget-view+json": {
       "model_id": "5d7ae32cfd51432e9ab472d9a4afb728",
       "version_major": 2,
       "version_minor": 0
      },
      "text/plain": [
       "Dropdown(description='Book Type:', options=('FictionBook', 'NonFictionBook'), value='FictionBook')"
      ]
     },
     "metadata": {},
     "output_type": "display_data"
    },
    {
     "data": {
      "application/vnd.jupyter.widget-view+json": {
       "model_id": "94fb40c589ae4c34ac575c87359abc1c",
       "version_major": 2,
       "version_minor": 0
      },
      "text/plain": [
       "Text(value='', description='Genre:', placeholder='Enter genre')"
      ]
     },
     "metadata": {},
     "output_type": "display_data"
    },
    {
     "data": {
      "application/vnd.jupyter.widget-view+json": {
       "model_id": "084d28d540954eceb06ee66e448e10c5",
       "version_major": 2,
       "version_minor": 0
      },
      "text/plain": [
       "Button(description='Add Book', style=ButtonStyle(button_color='lightgreen'))"
      ]
     },
     "metadata": {},
     "output_type": "display_data"
    },
    {
     "data": {
      "application/vnd.jupyter.widget-view+json": {
       "model_id": "8cb5455c2fc34eea88a276fc95c7a57c",
       "version_major": 2,
       "version_minor": 0
      },
      "text/plain": [
       "Text(value='', description='Member Name:', placeholder='Enter member name')"
      ]
     },
     "metadata": {},
     "output_type": "display_data"
    },
    {
     "data": {
      "application/vnd.jupyter.widget-view+json": {
       "model_id": "c4223342ca604c048d4e92f6588a7466",
       "version_major": 2,
       "version_minor": 0
      },
      "text/plain": [
       "Dropdown(description='Member Type:', options=('StudentMember', 'FacultyMember'), value='StudentMember')"
      ]
     },
     "metadata": {},
     "output_type": "display_data"
    },
    {
     "data": {
      "application/vnd.jupyter.widget-view+json": {
       "model_id": "f6fc790fd51444df974d6ef8babf432e",
       "version_major": 2,
       "version_minor": 0
      },
      "text/plain": [
       "Button(description='Add Member', style=ButtonStyle(button_color='lightblue'))"
      ]
     },
     "metadata": {},
     "output_type": "display_data"
    },
    {
     "data": {
      "application/vnd.jupyter.widget-view+json": {
       "model_id": "b6adae9c65434af5a893ab023c8676c5",
       "version_major": 2,
       "version_minor": 0
      },
      "text/plain": [
       "Button(description='Show All Books', style=ButtonStyle(button_color='lightcoral'))"
      ]
     },
     "metadata": {},
     "output_type": "display_data"
    },
    {
     "data": {
      "application/vnd.jupyter.widget-view+json": {
       "model_id": "bc7a1ed1b360415fb8299fbe034ec0cc",
       "version_major": 2,
       "version_minor": 0
      },
      "text/plain": [
       "Button(description='Show All Members', style=ButtonStyle(button_color='lightgoldenrodyellow'))"
      ]
     },
     "metadata": {},
     "output_type": "display_data"
    },
    {
     "data": {
      "application/vnd.jupyter.widget-view+json": {
       "model_id": "8eea6e895a0942bdb760d69f3f07f2e3",
       "version_major": 2,
       "version_minor": 0
      },
      "text/plain": [
       "Output()"
      ]
     },
     "metadata": {},
     "output_type": "display_data"
    },
    {
     "name": "stdout",
     "output_type": "stream",
     "text": [
      "Added book: english\n",
      "Added member: avneet\n",
      "Added book: math\n",
      "Added member: rajandeep\n"
     ]
    }
   ],
   "source": [
    "import rdflib\n",
    "import ipywidgets as widgets\n",
    "from IPython.display import display, HTML\n",
    "\n",
    "# Load the ontology file (.owl)\n",
    "ontology_file = r\"C:\\Users\\avneet\\Downloads\\library.owl\"  # Update the path as per your system\n",
    "g = rdflib.Graph()\n",
    "g.parse(ontology_file, format=\"xml\")\n",
    "\n",
    "# Function to add a book to the ontology\n",
    "def add_book(book_name, book_type, genre):\n",
    "    book_uri = rdflib.URIRef(f\"http://example.org#{book_name.replace(' ', '')}\")\n",
    "    g.add((book_uri, rdflib.RDF.type, rdflib.URIRef(f\"http://example.org#{book_type}\")))\n",
    "    g.add((book_uri, rdflib.URIRef(\"http://example.org#hasGenre\"), rdflib.URIRef(f\"http://example.org#{genre}\")))\n",
    "    g.add((book_uri, rdflib.URIRef(\"http://example.org#hasBookName\"), rdflib.Literal(book_name)))\n",
    "    g.serialize(destination=ontology_file, format=\"xml\")\n",
    "    print(f\"Added book: {book_name}\")\n",
    "\n",
    "# Function to add a member\n",
    "def add_member(name, member_type):\n",
    "    member_uri = rdflib.URIRef(f\"http://example.org#{name.replace(' ', '')}\")\n",
    "    g.add((member_uri, rdflib.RDF.type, rdflib.URIRef(f\"http://example.org#{member_type}\")))\n",
    "    g.add((member_uri, rdflib.URIRef(\"http://example.org#hasMemberName\"), rdflib.Literal(name)))\n",
    "    g.serialize(destination=ontology_file, format=\"xml\")\n",
    "    print(f\"Added member: {name}\")\n",
    "\n",
    "# Function to show all books\n",
    "def show_books():\n",
    "    query = \"\"\"\n",
    "        PREFIX ex: <http://example.org#>\n",
    "        SELECT ?book ?name ?genre WHERE {\n",
    "            ?book rdf:type ex:Book .\n",
    "            ?book ex:hasBookName ?name .\n",
    "            ?book ex:hasGenre ?genre_uri .\n",
    "            ?genre_uri rdfs:label ?genre .\n",
    "        }\n",
    "    \"\"\"\n",
    "    results = g.query(query)\n",
    "    records = []\n",
    "    for row in results:\n",
    "        records.append(f\"Book: {row.name}, Genre: {row.genre}\")\n",
    "    return \"\\n\".join(records) if records else \"No books found.\"\n",
    "\n",
    "# Function to show all members\n",
    "def show_members():\n",
    "    query = \"\"\"\n",
    "        PREFIX ex: <http://example.org#>\n",
    "        SELECT ?member ?name ?type WHERE {\n",
    "            ?member rdf:type ex:Member .\n",
    "            ?member ex:hasMemberName ?name .\n",
    "            ?member rdf:type ?type_uri .\n",
    "            ?type_uri rdfs:label ?type .\n",
    "        }\n",
    "    \"\"\"\n",
    "    results = g.query(query)\n",
    "    records = []\n",
    "    for row in results:\n",
    "        records.append(f\"Member: {row.name}, Type: {row.type}\")\n",
    "    return \"\\n\".join(records) if records else \"No members found.\"\n",
    "\n",
    "# Create widgets for user input and displaying results\n",
    "book_name_input = widgets.Text(description=\"Book Name:\", placeholder=\"Enter book name\")\n",
    "book_type_input = widgets.Dropdown(description=\"Book Type:\", options=[\"FictionBook\", \"NonFictionBook\"])\n",
    "genre_input = widgets.Text(description=\"Genre:\", placeholder=\"Enter genre\")\n",
    "\n",
    "add_book_button = widgets.Button(description=\"Add Book\")\n",
    "add_book_button.on_click(lambda x: add_book(book_name_input.value, book_type_input.value, genre_input.value))\n",
    "\n",
    "member_name_input = widgets.Text(description=\"Member Name:\", placeholder=\"Enter member name\")\n",
    "member_type_input = widgets.Dropdown(description=\"Member Type:\", options=[\"StudentMember\", \"FacultyMember\"])\n",
    "\n",
    "add_member_button = widgets.Button(description=\"Add Member\")\n",
    "add_member_button.on_click(lambda x: add_member(member_name_input.value, member_type_input.value))\n",
    "\n",
    "# Display output section\n",
    "output = widgets.Output()\n",
    "\n",
    "# Function to show all books in the ontology\n",
    "def show_all_books(b):\n",
    "    with output:\n",
    "        print(show_books())\n",
    "\n",
    "show_books_button = widgets.Button(description=\"Show All Books\")\n",
    "show_books_button.on_click(show_all_books)\n",
    "\n",
    "# Function to show all members in the ontology\n",
    "def show_all_members(b):\n",
    "    with output:\n",
    "        print(show_members())\n",
    "\n",
    "show_members_button = widgets.Button(description=\"Show All Members\")\n",
    "show_members_button.on_click(show_all_members)\n",
    "\n",
    "# Styling the buttons and widgets for a colorful and attractive interface\n",
    "add_book_button.style.button_color = 'lightgreen'\n",
    "add_member_button.style.button_color = 'lightblue'\n",
    "show_books_button.style.button_color = 'lightcoral'\n",
    "show_members_button.style.button_color = 'lightgoldenrodyellow'\n",
    "\n",
    "# Display the widgets\n",
    "display(book_name_input, book_type_input, genre_input, add_book_button, \n",
    "        member_name_input, member_type_input, add_member_button, \n",
    "        show_books_button, show_members_button, output)\n"
   ]
  },
  {
   "cell_type": "code",
   "execution_count": null,
   "id": "0e86ef13",
   "metadata": {},
   "outputs": [],
   "source": []
  }
 ],
 "metadata": {
  "kernelspec": {
   "display_name": "Python 3 (ipykernel)",
   "language": "python",
   "name": "python3"
  },
  "language_info": {
   "codemirror_mode": {
    "name": "ipython",
    "version": 3
   },
   "file_extension": ".py",
   "mimetype": "text/x-python",
   "name": "python",
   "nbconvert_exporter": "python",
   "pygments_lexer": "ipython3",
   "version": "3.9.7"
  }
 },
 "nbformat": 4,
 "nbformat_minor": 5
}
